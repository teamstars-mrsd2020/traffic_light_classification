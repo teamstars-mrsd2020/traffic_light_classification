{
 "metadata": {
  "language_info": {
   "codemirror_mode": {
    "name": "ipython",
    "version": 3
   },
   "file_extension": ".py",
   "mimetype": "text/x-python",
   "name": "python",
   "nbconvert_exporter": "python",
   "pygments_lexer": "ipython3",
   "version": "3.7.9-final"
  },
  "orig_nbformat": 2,
  "kernelspec": {
   "name": "python3",
   "display_name": "Python 3.7.9 64-bit",
   "metadata": {
    "interpreter": {
     "hash": "65f9eb9f4eecf698a4846eb513a876bb7435163c17d4a72e19e48eff35f08740"
    }
   }
  }
 },
 "nbformat": 4,
 "nbformat_minor": 2,
 "cells": [
  {
   "cell_type": "code",
   "execution_count": 2,
   "metadata": {},
   "outputs": [],
   "source": [
    "import numpy as np\n",
    "import cv2\n",
    "import pandas as pd"
   ]
  },
  {
   "cell_type": "code",
   "execution_count": 3,
   "metadata": {
    "tags": []
   },
   "outputs": [
    {
     "output_type": "stream",
     "name": "stdout",
     "text": [
      "600\n"
     ]
    }
   ],
   "source": [
    "cap = cv2.VideoCapture(\"../inputs/c_002_002_001.mp4\")\n",
    "length = int(cap.get(cv2.CAP_PROP_FRAME_COUNT))\n",
    "print( length )"
   ]
  },
  {
   "cell_type": "code",
   "execution_count": 4,
   "metadata": {
    "tags": []
   },
   "outputs": [
    {
     "output_type": "stream",
     "name": "stdout",
     "text": [
      "(1425, 396, 13, 37)\n"
     ]
    }
   ],
   "source": [
    "# get first frame\n",
    "_, frame = cap.read()\n",
    "roi = cv2.selectROI(\"win1\", frame)\n",
    "print(roi)  \n",
    "# cv2.resizeWindow('win1', (600,600))\n",
    "#print rectangle points of selected roi\n",
    " \n",
    "#Crop selected roi from raw image\n",
    "# roi_cropped = frame[int(roi[1]):int(roi[1]+roi[3]), int(roi[0]):int(roi[0]+roi[2])]\n",
    " \n",
    "#show cropped image\n",
    "# cv2.imshow(\"ROI\", roi_cropped)\n",
    "\n",
    "# cv2.imwrite(\"crop.jpeg\",roi_cropped)"
   ]
  },
  {
   "cell_type": "code",
   "execution_count": 4,
   "metadata": {},
   "outputs": [],
   "source": [
    "_, frame = cap.read()\n",
    "roi = cv2.selectROI(\"win1\", frame)\n",
    "print(roi) "
   ]
  },
  {
   "cell_type": "code",
   "execution_count": null,
   "metadata": {},
   "outputs": [],
   "source": [
    "tl_id_0_0 = (2908, 759, 36, 67)\n",
    "tl_id_0_1 = (3141, 742, 37, 72)\n",
    "tl_id_1_0 = (1167, 783, 35, 73)\n",
    "tl_id_1_1 = (1314, 790, 32, 68)\n",
    "\n",
    "# 001 001 001\n",
    "# (572, 398, 21, 41)\n",
    "# (1599, 410, 26, 68)\n",
    "\n",
    "# 001 003 001\n",
    "# (527, 408, 23, 45)\n",
    "# (1306, 408, 22, 51)\n",
    "\n",
    "# (1500, 410, 31, 87)\n",
    "\n",
    "\n",
    "# 001 001 002\n",
    "# (773, 391, 17, 40)\n",
    "# (1767, 407, 15, 41)\n",
    "\n",
    "# 001 003 002\n",
    "# (774, 392, 15, 38)\n",
    "# (1423, 396, 17, 44)\n",
    "\n",
    "\n",
    "# 002 001 001\n",
    "# (568, 383, 10, 26)\n",
    "# (1625, 391, 18, 47)\n",
    "\n",
    "# 002 003 001\n",
    "# (569, 389, 9, 21)\n",
    "# (1012, 387, 8, 26)\n",
    "\n",
    "\n",
    "\n",
    "# 001 000 001\n",
    "# (658, 402, 17, 35)\n",
    "# (1457, 400, 14, 41)\n",
    "\n",
    "# 001 002 001\n",
    "# (785, 387, 14, 31)\n",
    "# (1473, 390, 15, 40)\n",
    "\n",
    "# r 2 0 1 \n",
    "# (550, 484, 16, 38)\n",
    "# (1537, 481, 21, 39)\n",
    "\n",
    "# r 2 2 1\n",
    "# (568, 393, 11, 30)\n",
    "# (1487, 386, 13, 37)\n",
    "\n",
    "\n",
    "\n",
    "# c 2 0 1\n",
    "# (602, 396, 17, 39)\n",
    "# (1545, 402, 16, 41)\n",
    "\n",
    "# c 2 2 1\n",
    "# (642, 393, 14, 44)\n",
    "# (1425, 396, 13, 37)\n",
    "\n",
    "\n",
    "\n",
    "# LEft right format"
   ]
  },
  {
   "cell_type": "code",
   "execution_count": null,
   "metadata": {},
   "outputs": [],
   "source": []
  },
  {
   "cell_type": "code",
   "execution_count": null,
   "metadata": {
    "tags": []
   },
   "outputs": [],
   "source": [
    "frame_id = 0\n",
    "while(True):\n",
    "    # Capture frame-by-frame\n",
    "    ret, frame = cap.read()\n",
    "    cv2.imshow('frame', frame)\n",
    "    if cv2.waitKey(1) & 0xFF == ord('q'):\n",
    "        break\n",
    "    frame_id += 1\n",
    "    print(frame_id)\n",
    "# When everything done, release the capture\n",
    "cap.release()\n",
    "cv2.destroyAllWindows()"
   ]
  },
  {
   "cell_type": "code",
   "execution_count": null,
   "metadata": {},
   "outputs": [],
   "source": [
    "tl_state_map = {0:\"red\", 1:\"yellow\", 2:\"green\"}"
   ]
  },
  {
   "cell_type": "code",
   "execution_count": null,
   "metadata": {},
   "outputs": [],
   "source": [
    "data = np.zeros((length*4, 3), dtype=np.int)\n",
    "data_str = []\n",
    "\n",
    "for i in range(length*4):\n",
    "        \n",
    "    ## ID \n",
    "    data[i][0] = (i//4) + 1\n",
    "    \n",
    "    ## tl_id\n",
    "    data[i][1] = (i) % 4\n",
    "    \n",
    "    # 9.5s is the transition \n",
    "    if ( i < (4 * 190) and i % 4 == 1):\n",
    "        data[i][2] = 2\n",
    "    \n",
    "    # 25s is the transition \n",
    "    if ( i > (4 * 500) and i % 4 == 2):\n",
    "        data[i][2] = 2\n",
    "    \n",
    "    # 25s is the transition \n",
    "    if ( i > (4 * 190) and i < (4 * 500) and i % 4 == 0):\n",
    "        data[i][2] = 2\n",
    "\n",
    "    data_str.append(tl_state_map[data[i][2]])\n"
   ]
  },
  {
   "cell_type": "code",
   "execution_count": null,
   "metadata": {},
   "outputs": [],
   "source": [
    "d = {'frame_id': list(data[:, 0]), 'tl_id': list(data[:, 1]), 'tl_state': data_str}\n",
    "df = pd.DataFrame(data=d)"
   ]
  },
  {
   "cell_type": "code",
   "execution_count": null,
   "metadata": {},
   "outputs": [],
   "source": [
    "df.to_csv(\"tl_violation.csv\", index=False)"
   ]
  },
  {
   "cell_type": "code",
   "execution_count": null,
   "metadata": {},
   "outputs": [],
   "source": []
  }
 ]
}