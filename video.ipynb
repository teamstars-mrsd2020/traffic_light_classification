{
 "metadata": {
  "language_info": {
   "codemirror_mode": {
    "name": "ipython",
    "version": 3
   },
   "file_extension": ".py",
   "mimetype": "text/x-python",
   "name": "python",
   "nbconvert_exporter": "python",
   "pygments_lexer": "ipython3",
   "version": "3.7.7-final"
  },
  "orig_nbformat": 2,
  "kernelspec": {
   "name": "python_defaultSpec_1601455352216",
   "display_name": "Python 3.7.7 64-bit ('lw3dpose': conda)",
   "metadata": {
    "interpreter": {
     "hash": "3be010378ac67adb465b8bbb976640e82bed37c8fc0762d2466ecfe36c875a51"
    }
   }
  }
 },
 "nbformat": 4,
 "nbformat_minor": 2,
 "cells": [
  {
   "cell_type": "code",
   "execution_count": 1,
   "metadata": {},
   "outputs": [],
   "source": [
    "import numpy as np\n",
    "import cv2\n",
    "import pandas as pd"
   ]
  },
  {
   "cell_type": "code",
   "execution_count": 2,
   "metadata": {
    "tags": []
   },
   "outputs": [
    {
     "output_type": "stream",
     "name": "stdout",
     "text": "1852\n"
    }
   ],
   "source": [
    "cap = cv2.VideoCapture(\"./tl_violation.MP4\")\n",
    "length = int(cap.get(cv2.CAP_PROP_FRAME_COUNT))\n",
    "print( length )"
   ]
  },
  {
   "cell_type": "code",
   "execution_count": 6,
   "metadata": {
    "tags": []
   },
   "outputs": [
    {
     "output_type": "stream",
     "name": "stdout",
     "text": "(1314, 790, 32, 68)\n"
    },
    {
     "output_type": "execute_result",
     "data": {
      "text/plain": "True"
     },
     "metadata": {},
     "execution_count": 6
    }
   ],
   "source": [
    "# get first frame\n",
    "_, frame = cap.read()\n",
    "roi = cv2.selectROI(\"win1\", frame)\n",
    "# cv2.resizeWindow('win1', (600,600))\n",
    "#print rectangle points of selected roi\n",
    "print(roi)  \n",
    " \n",
    "#Crop selected roi from raw image\n",
    "roi_cropped = frame[int(roi[1]):int(roi[1]+roi[3]), int(roi[0]):int(roi[0]+roi[2])]\n",
    " \n",
    "#show cropped image\n",
    "cv2.imshow(\"ROI\", roi_cropped)\n",
    "\n",
    "cv2.imwrite(\"crop.jpeg\",roi_cropped)"
   ]
  },
  {
   "cell_type": "code",
   "execution_count": null,
   "metadata": {},
   "outputs": [],
   "source": [
    "tl_id_0_0 = (2908, 759, 36, 67)\n",
    "tl_id_0_1 = (3141, 742, 37, 72)\n",
    "tl_id_1_0 = (1167, 783, 35, 73)\n",
    "tl_id_1_1 = (1314, 790, 32, 68)\n"
   ]
  },
  {
   "cell_type": "code",
   "execution_count": null,
   "metadata": {},
   "outputs": [],
   "source": []
  },
  {
   "cell_type": "code",
   "execution_count": 30,
   "metadata": {
    "tags": []
   },
   "outputs": [],
   "source": [
    "frame_id = 0\n",
    "while(True):\n",
    "    # Capture frame-by-frame\n",
    "    ret, frame = cap.read()\n",
    "    cv2.imshow('frame', frame)\n",
    "    if cv2.waitKey(1) & 0xFF == ord('q'):\n",
    "        break\n",
    "    frame_id += 1\n",
    "\n",
    "# When everything done, release the capture\n",
    "cap.release()\n",
    "cv2.destroyAllWindows()"
   ]
  },
  {
   "cell_type": "code",
   "execution_count": 39,
   "metadata": {},
   "outputs": [],
   "source": [
    "tl_state_map = {0:\"off\", 1:\"red\", 2:\"yellow\", 3:\"green\"}\n"
   ]
  },
  {
   "cell_type": "code",
   "execution_count": 61,
   "metadata": {},
   "outputs": [],
   "source": [
    "data = np.ones((length*4, 3), dtype=np.int)\n",
    "data_str = []\n",
    "\n",
    "for i in range(length*4):\n",
    "        \n",
    "    ## ID \n",
    "    data[i][0] = (i//4) + 1\n",
    "    \n",
    "    ## tl_id\n",
    "    data[i][1] = (i) % 4\n",
    "    \n",
    "    # 950 is the transition \n",
    "    if ( i < (4 * 950) and i % 4 == 0):\n",
    "        data[i][2] = 3\n",
    "    \n",
    "    data_str.append(tl_state_map[data[i][2]])\n"
   ]
  },
  {
   "cell_type": "code",
   "execution_count": 63,
   "metadata": {},
   "outputs": [],
   "source": [
    "d = {'frame_id': list(data[:, 0]), 'tl_id': list(data[:, 1]), 'tl_state': data_str}\n",
    "df = pd.DataFrame(data=d)"
   ]
  },
  {
   "cell_type": "code",
   "execution_count": 66,
   "metadata": {},
   "outputs": [],
   "source": [
    "df.to_csv(\"tl_violation.csv\")"
   ]
  },
  {
   "cell_type": "code",
   "execution_count": null,
   "metadata": {},
   "outputs": [],
   "source": []
  }
 ]
}